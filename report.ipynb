{
 "metadata": {
  "kernelspec": {
   "display_name": "Python 3",
   "language": "python",
   "name": "python3"
  },
  "language_info": {
   "codemirror_mode": {
    "name": "ipython",
    "version": 3
   },
   "file_extension": ".py",
   "mimetype": "text/x-python",
   "name": "python",
   "nbconvert_exporter": "python",
   "pygments_lexer": "ipython3",
   "version": "3.5.1"
  },
  "name": "",
  "signature": "sha256:53b8dc7007c7fbc17d137fbc48321bc6d2f835172e7a73b1e7eb3c092e09ef6a"
 },
 "nbformat": 3,
 "nbformat_minor": 0,
 "worksheets": [
  {
   "cells": [
    {
     "cell_type": "markdown",
     "metadata": {},
     "source": [
      "# Spring 2016 tutoring center sign-in data\n",
      "This is an auto-generated report on student drop-in and special review session visits to the Economics Tutoring center. \n",
      "Every student visit is logged and this new report is auto-generated at regular intervals as a [jupyter notebook](http://jupyter.org/). The version you are now reading may have the code cells hidden. "
     ]
    },
    {
     "cell_type": "code",
     "collapsed": false,
     "input": [
      "%matplotlib inline\n",
      "import pandas as pd\n",
      "import numpy as np\n",
      "import matplotlib.pyplot as plt\n",
      "from datetime import date, datetime\n",
      "import seaborn as sns\n",
      "import os\n",
      "import glob as glob\n",
      "plt.rcParams['figure.figsize'] = (10.0, 8.0)"
     ],
     "language": "python",
     "metadata": {},
     "outputs": [],
     "prompt_number": 1
    },
    {
     "cell_type": "code",
     "collapsed": false,
     "input": [
      "export_files = glob.iglob(r'C:\\Users\\Av\\Dropbox\\sign_in_exports\\*.csv')\n",
      "#export_files = glob.iglob(r'D:\\Users\\jconning\\Dropbox\\sign_in_exports\\*.csv')\n",
      "\n",
      "#sort by most recently updated export\n",
      "newest = max(export_files, key=os.path.getmtime)\n",
      "df = pd.read_csv(newest)\n",
      "\n",
      "update_date_unix = os.path.getmtime(newest)\n",
      "update_date = datetime.fromtimestamp(update_date_unix)\n",
      "print(\"This report was updated on: \" + str(update_date.strftime(\"%b %d %Y %H:%M:%S\")))"
     ],
     "language": "python",
     "metadata": {},
     "outputs": [
      {
       "output_type": "stream",
       "stream": "stdout",
       "text": [
        "This report was updated on: Feb 10 2016 08:53:12\n"
       ]
      }
     ],
     "prompt_number": 2
    },
    {
     "cell_type": "code",
     "collapsed": false,
     "input": [
      "df['timestamp'] = pd.to_datetime(df.Date + ' ' + df.Time)\n",
      "df = df.set_index(pd.DatetimeIndex(df.timestamp))\n",
      "\n",
      "df['day'] = [date.dayofweek for date in df.index]\n",
      "df['hour']= [date.hour for date in df.index]\n"
     ],
     "language": "python",
     "metadata": {},
     "outputs": [],
     "prompt_number": 3
    },
    {
     "cell_type": "heading",
     "level": 4,
     "metadata": {},
     "source": [
      "The most popular days of the week:"
     ]
    },
    {
     "cell_type": "code",
     "collapsed": false,
     "input": [
      "grouped = df.groupby('day').size().sort_index(ascending= False)\n",
      "\n",
      "#rename integer day of week index by text day of week\n",
      "weekmask =['MON', 'TUE', 'WED', 'THU', 'FRI', 'SAT', 'SUN']\n",
      "grouped.index = [weekmask[date] for date in grouped.index]\n",
      "\n",
      "grouped.plot(kind='barh')"
     ],
     "language": "python",
     "metadata": {},
     "outputs": [
      {
       "output_type": "pyout",
       "prompt_number": 4,
       "text": [
        "<matplotlib.axes._subplots.AxesSubplot at 0x731da10>"
       ]
      },
      {
       "output_type": "display_data",
       "png": "[encoded data removed]",
       "text": [
        "<matplotlib.figure.Figure at 0x731dc30>"
       ]
      }
     ],
     "prompt_number": 4
    },
    {
     "cell_type": "code",
     "collapsed": true,
     "input": [
      " \n",
      "#Then reset_index to convert the (day,hour) multindex into a dataframe with columns \n",
      "#for day, hour and visits.  After all that use a (groupby) pivot table to create \n",
      "#the df_heatmap dataframe with hour rows and day columns. Exclude visits that might \n",
      "#have been misclassified as having happened outside tutoring hours (8am-9pm).  \n",
      "#Note: these get created when no hour was indicated on the sign-in."
     ],
     "language": "python",
     "metadata": {},
     "outputs": [],
     "prompt_number": 5
    },
    {
     "cell_type": "code",
     "collapsed": false,
     "input": [
      "#Group by day and hour to count the number of visits in each day-hour cell. \n",
      "dfu = pd.DataFrame(df.groupby([df.day,df.hour]).size())\n",
      "dfu.reset_index(inplace=True) \n",
      "dfu.columns = ['hour','day', 'visits']"
     ],
     "language": "python",
     "metadata": {},
     "outputs": [],
     "prompt_number": 6
    },
    {
     "cell_type": "code",
     "collapsed": false,
     "input": [
      "df_heatmap = dfu.pivot('day','hour','visits').fillna(0)\n",
      "df_heatmap = df_heatmap.loc[8:21,]\n",
      "\n",
      "#rename integer day of week index by text day of week\n",
      "weekmask =['MON', 'TUE', 'WED', 'THU', 'FRI', 'SAT', 'SUN']\n",
      "df_heatmap.columns = [weekmask[date] for date in df_heatmap.columns]"
     ],
     "language": "python",
     "metadata": {},
     "outputs": [],
     "prompt_number": 7
    },
    {
     "cell_type": "markdown",
     "metadata": {},
     "source": [
      "#### Heatmap showing most busy hours \n",
      "The tutoring center is open Monday to Saturday but holds ocassional Sunday review sessions."
     ]
    },
    {
     "cell_type": "code",
     "collapsed": false,
     "input": [
      "# Heatmap ignores values in mask. \n",
      "mask = ( df_heatmap ==0)\n",
      "sns.heatmap(df_heatmap, annot=True, mask = mask,cbar=False)\n",
      "plt.ylabel('Hour')\n",
      "plt.xlabel('Weekday')\n",
      "plt.title('Visits per Weekday/Hour')\n",
      "plt.show()"
     ],
     "language": "python",
     "metadata": {},
     "outputs": [
      {
       "output_type": "stream",
       "stream": "stderr",
       "text": [
        "C:\\Users\\Av\\Anaconda3\\lib\\site-packages\\matplotlib\\collections.py:590: FutureWarning: elementwise comparison failed; returning scalar instead, but in the future will perform elementwise comparison\n",
        "  if self._edgecolors == str('face'):\n"
       ]
      },
      {
       "output_type": "display_data",
       "png": "[encoded data removed]",
       "text": [
        "<matplotlib.figure.Figure at 0x739c130>"
       ]
      }
     ],
     "prompt_number": 8
    },
    {
     "cell_type": "heading",
     "level": 2,
     "metadata": {},
     "source": [
      "Cumulative visits by date"
     ]
    },
    {
     "cell_type": "code",
     "collapsed": false,
     "input": [
      "day_count = df.groupby('Date').size()\n",
      "df_Day = pd.DataFrame({'Count': day_count})"
     ],
     "language": "python",
     "metadata": {},
     "outputs": [],
     "prompt_number": 9
    },
    {
     "cell_type": "code",
     "collapsed": false,
     "input": [
      "idx = pd.date_range(df_Day.index.min(), df_Day.index.max())\n",
      "df_Day.index = pd.DatetimeIndex(df_Day.index)\n",
      "df_day = df_Day.reindex(idx,fill_value=0)"
     ],
     "language": "python",
     "metadata": {},
     "outputs": [],
     "prompt_number": 10
    },
    {
     "cell_type": "code",
     "collapsed": false,
     "input": [
      "df_day.cumsum().plot()\n",
      "plt.show()"
     ],
     "language": "python",
     "metadata": {},
     "outputs": [
      {
       "output_type": "stream",
       "stream": "stderr",
       "text": [
        "C:\\Users\\Av\\Anaconda3\\lib\\site-packages\\matplotlib\\axes\\_base.py:2562: UserWarning: Attempting to set identical left==right results\n",
        "in singular transformations; automatically expanding.\n",
        "left=16840.0, right=16840.0\n",
        "  'left=%s, right=%s') % (left, right))\n"
       ]
      },
      {
       "output_type": "display_data",
       "png": "[encoded data removed]",
       "text": [
        "<matplotlib.figure.Figure at 0x7799310>"
       ]
      }
     ],
     "prompt_number": 11
    },
    {
     "cell_type": "heading",
     "level": 2,
     "metadata": {},
     "source": [
      "Visits by course number"
     ]
    },
    {
     "cell_type": "code",
     "collapsed": false,
     "input": [
      "byCourse = df.groupby(['Catalog Num'])\n",
      "df_Course = byCourse.size().sort_values(ascending=False)\n",
      "df_Course"
     ],
     "language": "python",
     "metadata": {},
     "outputs": [
      {
       "output_type": "pyout",
       "prompt_number": 12,
       "text": [
        "Catalog Num\n",
        "20000    1\n",
        "dtype: int64"
       ]
      }
     ],
     "prompt_number": 12
    },
    {
     "cell_type": "code",
     "collapsed": false,
     "input": [
      "df_Course.sort_values().plot(kind='barh')\n",
      "plt.ylabel(\"visits\")\n",
      "plt.title('Visits per Course')\n",
      "plt.show()"
     ],
     "language": "python",
     "metadata": {},
     "outputs": [
      {
       "output_type": "display_data",
       "png": "[encoded data removed]",
       "text": [
        "<matplotlib.figure.Figure at 0x7933370>"
       ]
      }
     ],
     "prompt_number": 13
    },
    {
     "cell_type": "heading",
     "level": 2,
     "metadata": {},
     "source": [
      "Visits by course section and instructor"
     ]
    },
    {
     "cell_type": "code",
     "collapsed": false,
     "input": [
      "byCourseProf = df.groupby(['Catalog Num','Instructor'])\n",
      "df_CourseProf = byCourseProf.size().sort_values(ascending=False)\n",
      "df_CourseProf"
     ],
     "language": "python",
     "metadata": {},
     "outputs": [
      {
       "output_type": "pyout",
       "prompt_number": 14,
       "text": [
        "Catalog Num  Instructor     \n",
        "20000        Howard Chernick    1\n",
        "dtype: int64"
       ]
      }
     ],
     "prompt_number": 14
    },
    {
     "cell_type": "code",
     "collapsed": false,
     "input": [
      "df_CourseProf.sort_values(ascending=False).plot(kind='bar')\n",
      "plt.ylabel(\"visits\")\n",
      "plt.title('Visits by Section')\n",
      "plt.ylabel(\"visits\")\n",
      "plt.show()"
     ],
     "language": "python",
     "metadata": {},
     "outputs": [
      {
       "output_type": "display_data",
       "png": "[encoded data removed]",
       "text": [
        "<matplotlib.figure.Figure at 0x79aa0d0>"
       ]
      }
     ],
     "prompt_number": 15
    }
   ],
   "metadata": {}
  }
 ]
}